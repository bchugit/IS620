{
 "cells": [
  {
   "cell_type": "markdown",
   "metadata": {},
   "source": [
    "## IS 620 Week 3 Assignment\n",
    "### Brian Chu || Sep. 13, 2015"
   ]
  },
  {
   "cell_type": "markdown",
   "metadata": {},
   "source": [
    "**This dataset describes the food-web ecosystem of the Florida Bay in the dry season.**    \n",
    "  \n",
    "Source: http://vlado.fmf.uni-lj.si/pub/networks/data/bio/foodweb/foodweb.htm  \n",
    "Paper: http://www.cbl.umces.edu/~atlss/FBay701.html"
   ]
  },
  {
   "cell_type": "code",
   "execution_count": 1,
   "metadata": {
    "collapsed": false
   },
   "outputs": [],
   "source": [
    "import networkx as nx\n",
    "import matplotlib.pyplot as plt"
   ]
  },
  {
   "cell_type": "code",
   "execution_count": 2,
   "metadata": {
    "collapsed": false
   },
   "outputs": [],
   "source": [
    "eco = nx.read_weighted_edgelist(\"eco-foodweb-baydry.edges\", comments='%', encoding='utf-8')"
   ]
  },
  {
   "cell_type": "markdown",
   "metadata": {},
   "source": [
    "**Provide basic description and metrics about the dataset**  "
   ]
  },
  {
   "cell_type": "code",
   "execution_count": 3,
   "metadata": {
    "collapsed": false
   },
   "outputs": [
    {
     "name": "stdout",
     "output_type": "stream",
     "text": [
      "nodes: 128\n",
      "edges: 2106\n"
     ]
    }
   ],
   "source": [
    "print \"nodes: %d\"  %len(eco)\n",
    "print \"edges: %d\"  %nx.number_of_edges(eco)"
   ]
  },
  {
   "cell_type": "code",
   "execution_count": 11,
   "metadata": {
    "collapsed": false
   },
   "outputs": [
    {
     "name": "stdout",
     "output_type": "stream",
     "text": [
      "min degrees: 1\n",
      "max degrees: 99\n"
     ]
    }
   ],
   "source": [
    "print \"min degrees: %s\" %min(eco.degree())\n",
    "print \"max degrees: %s\" %max(eco.degree())"
   ]
  },
  {
   "cell_type": "markdown",
   "metadata": {},
   "source": [
    "There certainly seems to be some centrality as at least one node is connected to 99/127 other nodes"
   ]
  },
  {
   "cell_type": "code",
   "execution_count": 13,
   "metadata": {
    "collapsed": false
   },
   "outputs": [
    {
     "name": "stdout",
     "output_type": "stream",
     "text": [
      "[(u'41', 3), (u'24', 3), (u'25', 3), (u'26', 3), (u'27', 3), (u'20', 3), (u'21', 2), (u'22', 3), (u'23', 3), (u'28', 3)]\n"
     ]
    }
   ],
   "source": [
    "print nx.eccentricity(eco).items()[:10]"
   ]
  },
  {
   "cell_type": "markdown",
   "metadata": {},
   "source": [
    "Eccentricity is the maximum distance from any singular node to the remaining nodes. This is just a snippet of the dataset.  "
   ]
  },
  {
   "cell_type": "code",
   "execution_count": 8,
   "metadata": {
    "collapsed": false
   },
   "outputs": [
    {
     "name": "stdout",
     "output_type": "stream",
     "text": [
      "diameter: 3\n",
      "radius: 2\n"
     ]
    }
   ],
   "source": [
    "print \"diameter: %d\"  %nx.diameter(eco)\n",
    "print \"radius: %d\"  %nx.radius(eco)"
   ]
  },
  {
   "cell_type": "markdown",
   "metadata": {},
   "source": [
    "Diameter is the maximum eccentricity in the graph between any two nodes. Radius is the minimum eccentricity from any mode to all other nodes.  \n",
    "The small diameter and radius show again that the system is rather centralized and tightly connected."
   ]
  }
 ],
 "metadata": {
  "kernelspec": {
   "display_name": "Python 2",
   "language": "python",
   "name": "python2"
  },
  "language_info": {
   "codemirror_mode": {
    "name": "ipython",
    "version": 2
   },
   "file_extension": ".py",
   "mimetype": "text/x-python",
   "name": "python",
   "nbconvert_exporter": "python",
   "pygments_lexer": "ipython2",
   "version": "2.7.9"
  }
 },
 "nbformat": 4,
 "nbformat_minor": 0
}
