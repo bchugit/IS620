{
 "cells": [
  {
   "cell_type": "markdown",
   "metadata": {},
   "source": [
    "## IS620 - Project 1\n",
    "## Centrality Measures and Categorical Comparison\n",
    "### Brian Chu | Sep 27, 2015"
   ]
  },
  {
   "cell_type": "markdown",
   "metadata": {},
   "source": [
    "**If graphs are not visible, please view <a href=\"http://nbviewer.ipython.org/github/bchugit/IS620_WebAnalytics/blob/master/Week%203%20-%20Graph%20Theory%20and%20Definitions/bchu_wk3_graphviz_full.ipynb\">here</a>. The <a href=\"http://blog.jupyter.org/2015/05/07/rendering-notebooks-on-github/\">Github-Jupyter</a> rendering doesn't seem to connect GraphLab Canvas properly.**"
   ]
  },
  {
   "cell_type": "markdown",
   "metadata": {},
   "source": [
    "### 1) Identify and load a network dataset that has some categorical information available for each node."
   ]
  },
  {
   "cell_type": "markdown",
   "metadata": {},
   "source": [
    "**This dataset represents a small network of the Mexican presidential elite throughout the 20th century. Each member (node) is also classified according to their professional background: (1 - military in class, 2 - civilians).**  \n",
    "  \n",
    "*Offficial Background:*    \n",
    "  \n",
    "*In Mexico, political power has been in the hands of a relatively small set of people who are connected by business relations, family ties, friendship, and membership of political institutions throughout most of the 20th century. A striking case in point is the succession of presidents, especially the nomination of the candidates for the presidential election. Since 1929, each new president was a secretary in the previous cabinet, which means that he worked closely together with the previous president. Moreover, the candidates always entertained close ties with former presidents and their closest collaborators. In this way, a political elite has maintained control over the country.*    \n",
    "  \n",
    "*The network contains the core of this political elite: the presidents and their closest collaborators. In this network, edges represent significant political, kinship, friendship, or business ties.*  \n",
    "  \n",
    "Source: https://sites.google.com/site/ucinetsoftware/datasets/mexicanpoliticalelite  "
   ]
  },
  {
   "cell_type": "code",
   "execution_count": 13,
   "metadata": {
    "collapsed": true
   },
   "outputs": [],
   "source": [
    "import networkx as nx\n",
    "import matplotlib.pyplot as plt"
   ]
  },
  {
   "cell_type": "markdown",
   "metadata": {},
   "source": [
    "#### The data was originally in Pajek format with a partition for the categorical information. I converted these to separate CSV files since I could not properly extract the partition using NetworkX. "
   ]
  },
  {
   "cell_type": "code",
   "execution_count": 35,
   "metadata": {
    "collapsed": false
   },
   "outputs": [
    {
     "data": {
      "text/plain": [
       "{u'Antonio Carrillo Flores': {'professional': '2'},\n",
       " u'Candido Aguilar': {'professional': '1'},\n",
       " u'Luis Echeverria Alvarez': {'professional': '2'},\n",
       " u'Miguel Aleman Velasco': {'professional': '2'},\n",
       " u'Venustiano Carranza': {'professional': '1'}}"
      ]
     },
     "execution_count": 35,
     "metadata": {},
     "output_type": "execute_result"
    }
   ],
   "source": [
    "# Read nodes and edges\n",
    "mex = nx.read_edgelist('mexican_edges.csv', delimiter=\",\", encoding='utf-8')\n",
    "\n",
    "# Add professional attribute to each node\n",
    "import csv\n",
    "with open('mexican_military.csv', mode='r') as infile:\n",
    "    reader = csv.reader(infile)\n",
    "    military = {rows[0]:rows[1] for rows in reader}\n",
    "\n",
    "nx.set_node_attributes(mex, 'professional', military)\n",
    "\n",
    "# Check nodes are categorized correctly\n",
    "{k: mex.node[k] for k in mex.node.keys()[:5]}"
   ]
  },
  {
   "cell_type": "markdown",
   "metadata": {},
   "source": [
    "> Looks like all the data is there"
   ]
  },
  {
   "cell_type": "markdown",
   "metadata": {},
   "source": [
    "#### Get some basic metrics of the network"
   ]
  },
  {
   "cell_type": "code",
   "execution_count": 50,
   "metadata": {
    "collapsed": false
   },
   "outputs": [
    {
     "name": "stdout",
     "output_type": "stream",
     "text": [
      "Nodes: 35\n",
      "Edges: 117\n",
      "Diameter: 4\n",
      "Radius: 2\n",
      "min degrees: Adolfo Lopez Mateos\n"
     ]
    }
   ],
   "source": [
    "print \"Nodes: %d\" %len(mex)\n",
    "print \"Edges: %d\" %nx.number_of_edges(mex)\n",
    "print \"Diameter: %d\" %nx.diameter(mex)\n",
    "print \"Radius: %d\" %nx.radius(mex)\n",
    "print \"min degrees: %s\" %min(mex.degree())"
   ]
  },
  {
   "cell_type": "markdown",
   "metadata": {},
   "source": [
    "> Indeed, the network looks fairly closed"
   ]
  },
  {
   "cell_type": "markdown",
   "metadata": {},
   "source": [
    "#### Draw the network"
   ]
  },
  {
   "cell_type": "code",
   "execution_count": null,
   "metadata": {
    "collapsed": false
   },
   "outputs": [],
   "source": [
    "import graphlab as gl\n",
    "gl.canvas.set_target('ipynb')\n",
    "gmex = gl.SFrame.read_csv(\"mexican_edges.csv\", header=False)"
   ]
  },
  {
   "cell_type": "code",
   "execution_count": 159,
   "metadata": {
    "collapsed": false,
    "scrolled": true
   },
   "outputs": [
    {
     "data": {
      "application/javascript": [
       "$(\"head\").append($(\"<link/>\").attr({\n",
       "  rel:  \"stylesheet\",\n",
       "  type: \"text/css\",\n",
       "  href: \"//cdnjs.cloudflare.com/ajax/libs/font-awesome/4.1.0/css/font-awesome.min.css\"\n",
       "}));\n",
       "$(\"head\").append($(\"<link/>\").attr({\n",
       "  rel:  \"stylesheet\",\n",
       "  type: \"text/css\",\n",
       "  href: \"//dato.com/files/canvas/1.5.2/css/canvas.css\"\n",
       "}));\n",
       "\n",
       "            (function(){\n",
       "\n",
       "                var e = null;\n",
       "                if (typeof element == 'undefined') {\n",
       "                    var scripts = document.getElementsByTagName('script');\n",
       "                    var thisScriptTag = scripts[scripts.length-1];\n",
       "                    var parentDiv = thisScriptTag.parentNode;\n",
       "                    e = document.createElement('div');\n",
       "                    parentDiv.appendChild(e);\n",
       "                } else {\n",
       "                    e = element[0];\n",
       "                }\n",
       "\n",
       "                require(['//dato.com/files/canvas/1.5.2/js/ipython_app.js'], function(IPythonApp){\n",
       "                    var app = new IPythonApp();\n",
       "                    app.attachView('sgraph','View', {\"edges_labels\": null, \"selected_variable\": {\"name\": [\"g\"], \"view_file\": \"sgraph\", \"view_component\": \"View\", \"view_params\": {\"elabel_hover\": false, \"vertex_positions\": null, \"h_offset\": 0.03, \"node_size\": 250, \"ecolor\": [0.37, 0.33, 0.33], \"elabel\": null, \"arrows\": false, \"ewidth\": 1, \"vlabel\": \"id\", \"highlight_color\": [0.69, 0.0, 0.498], \"vcolor\": [0.522, 0.741, 0.0], \"vlabel_hover\": true, \"highlight\": {}, \"v_offset\": 0.03}, \"view_components\": [\"View\"], \"type\": \"SGraph\", \"descriptives_links\": {\"edges\": \"edges\", \"vertices\": \"vertices\"}, \"descriptives\": {\"edges\": 117, \"vertices\": 35}}, \"positions\": null, \"error_type\": 0, \"vertices\": [\"Antonio Carrillo Flores\", \"Gilberto Loyo\", \"Ignacio Beteta\", \"Miguel Aleman Gonzalez\", \"Miguel Aleman Valdes\", \"Plutarco E. Calles\", \"Angel Carvajal\", \"Francisco Madero\", \"Gustavo Diaz Ordaz\", \"Heriberto Jara\", \"Jacinto B. Trevino\", \"Jose Lopez Portillo\", \"Salomon Gonzalez Blanco\", \"Venustiano Carranza\", \"Carlos Salinas de Gortari\", \"Cuauhtemoc Cardenas\", \"Miguel Aleman Velasco\", \"Adolfo Ruiz Cortines\", \"Antonio Ortiz Mena\", \"Hugo B. Margain\", \"Manuel Avila Camacho\", \"Adolfo Lopez Mateos\", \"Alvaro Obregon\", \"Ramon Beteta\", \"Lazaro Cardenas\", \"Luis Echeverria Alvarez\", \"Mario Ramon Beteta\", \"Miguel De la Madrid\", \"Rodolfo Sanchez Taboada\", \"Andres Serra Rojas\", \"Antonio Ruiz Galindo\", \"Candido Aguilar\", \"Eduardo Bustamante\", \"Emilio Portes Gil\", \"Raul Salinas Lozano\"], \"vertices_labels\": [\"Antonio Carrillo Flores\", \"Gilberto Loyo\", \"Ignacio Beteta\", \"Miguel Aleman Gonzalez\", \"Miguel Aleman Valdes\", \"Plutarco E. Calles\", \"Angel Carvajal\", \"Francisco Madero\", \"Gustavo Diaz Ordaz\", \"Heriberto Jara\", \"Jacinto B. Trevino\", \"Jose Lopez Portillo\", \"Salomon Gonzalez Blanco\", \"Venustiano Carranza\", \"Carlos Salinas de Gortari\", \"Cuauhtemoc Cardenas\", \"Miguel Aleman Velasco\", \"Adolfo Ruiz Cortines\", \"Antonio Ortiz Mena\", \"Hugo B. Margain\", \"Manuel Avila Camacho\", \"Adolfo Lopez Mateos\", \"Alvaro Obregon\", \"Ramon Beteta\", \"Lazaro Cardenas\", \"Luis Echeverria Alvarez\", \"Mario Ramon Beteta\", \"Miguel De la Madrid\", \"Rodolfo Sanchez Taboada\", \"Andres Serra Rojas\", \"Antonio Ruiz Galindo\", \"Candido Aguilar\", \"Eduardo Bustamante\", \"Emilio Portes Gil\", \"Raul Salinas Lozano\"], \"edges\": [[\"Miguel Aleman Gonzalez\", \"Miguel Aleman Valdes\"], [\"Miguel Aleman Valdes\", \"Antonio Carrillo Flores\"], [\"Antonio Carrillo Flores\", \"Gustavo Diaz Ordaz\"], [\"Miguel Aleman Gonzalez\", \"Heriberto Jara\"], [\"Miguel Aleman Valdes\", \"Angel Carvajal\"], [\"Miguel Aleman Valdes\", \"Gustavo Diaz Ordaz\"], [\"Miguel Aleman Valdes\", \"Miguel Aleman Velasco\"], [\"Antonio Carrillo Flores\", \"Antonio Ortiz Mena\"], [\"Miguel Aleman Valdes\", \"Adolfo Ruiz Cortines\"], [\"Miguel Aleman Valdes\", \"Hugo B. Margain\"], [\"Miguel Aleman Valdes\", \"Antonio Ortiz Mena\"], [\"Miguel Aleman Valdes\", \"Ramon Beteta\"], [\"Miguel Aleman Valdes\", \"Adolfo Lopez Mateos\"], [\"Ignacio Beteta\", \"Ramon Beteta\"], [\"Plutarco E. Calles\", \"Ramon Beteta\"], [\"Ignacio Beteta\", \"Mario Ramon Beteta\"], [\"Miguel Aleman Valdes\", \"Rodolfo Sanchez Taboada\"], [\"Plutarco E. Calles\", \"Lazaro Cardenas\"], [\"Antonio Carrillo Flores\", \"Eduardo Bustamante\"], [\"Antonio Carrillo Flores\", \"Raul Salinas Lozano\"], [\"Gilberto Loyo\", \"Raul Salinas Lozano\"], [\"Miguel Aleman Valdes\", \"Andres Serra Rojas\"], [\"Miguel Aleman Valdes\", \"Antonio Ruiz Galindo\"], [\"Miguel Aleman Valdes\", \"Eduardo Bustamante\"], [\"Plutarco E. Calles\", \"Emilio Portes Gil\"], [\"Angel Carvajal\", \"Antonio Carrillo Flores\"], [\"Francisco Madero\", \"Plutarco E. Calles\"], [\"Francisco Madero\", \"Jacinto B. Trevino\"], [\"Francisco Madero\", \"Venustiano Carranza\"], [\"Gustavo Diaz Ordaz\", \"Antonio Ortiz Mena\"], [\"Angel Carvajal\", \"Adolfo Ruiz Cortines\"], [\"Heriberto Jara\", \"Manuel Avila Camacho\"], [\"Heriberto Jara\", \"Adolfo Ruiz Cortines\"], [\"Jacinto B. Trevino\", \"Adolfo Ruiz Cortines\"], [\"Francisco Madero\", \"Alvaro Obregon\"], [\"Gustavo Diaz Ordaz\", \"Luis Echeverria Alvarez\"], [\"Jose Lopez Portillo\", \"Miguel De la Madrid\"], [\"Heriberto Jara\", \"Lazaro Cardenas\"], [\"Francisco Madero\", \"Candido Aguilar\"], [\"Francisco Madero\", \"Emilio Portes Gil\"], [\"Salomon Gonzalez Blanco\", \"Antonio Carrillo Flores\"], [\"Venustiano Carranza\", \"Plutarco E. Calles\"], [\"Venustiano Carranza\", \"Miguel Aleman Gonzalez\"], [\"Venustiano Carranza\", \"Jacinto B. Trevino\"], [\"Venustiano Carranza\", \"Adolfo Ruiz Cortines\"], [\"Venustiano Carranza\", \"Alvaro Obregon\"], [\"Salomon Gonzalez Blanco\", \"Raul Salinas Lozano\"], [\"Venustiano Carranza\", \"Candido Aguilar\"], [\"Venustiano Carranza\", \"Emilio Portes Gil\"], [\"Carlos Salinas de Gortari\", \"Miguel Aleman Velasco\"], [\"Miguel Aleman Velasco\", \"Cuauhtemoc Cardenas\"], [\"Adolfo Ruiz Cortines\", \"Antonio Carrillo Flores\"], [\"Adolfo Ruiz Cortines\", \"Gilberto Loyo\"], [\"Hugo B. Margain\", \"Antonio Carrillo Flores\"], [\"Manuel Avila Camacho\", \"Miguel Aleman Valdes\"], [\"Hugo B. Margain\", \"Gustavo Diaz Ordaz\"], [\"Hugo B. Margain\", \"Jose Lopez Portillo\"], [\"Manuel Avila Camacho\", \"Gustavo Diaz Ordaz\"], [\"Adolfo Ruiz Cortines\", \"Salomon Gonzalez Blanco\"], [\"Hugo B. Margain\", \"Salomon Gonzalez Blanco\"], [\"Hugo B. Margain\", \"Carlos Salinas de Gortari\"], [\"Antonio Ortiz Mena\", \"Carlos Salinas de Gortari\"], [\"Hugo B. Margain\", \"Antonio Ortiz Mena\"], [\"Adolfo Ruiz Cortines\", \"Antonio Ortiz Mena\"], [\"Manuel Avila Camacho\", \"Adolfo Ruiz Cortines\"], [\"Adolfo Ruiz Cortines\", \"Adolfo Lopez Mateos\"], [\"Hugo B. Margain\", \"Luis Echeverria Alvarez\"], [\"Hugo B. Margain\", \"Miguel De la Madrid\"], [\"Hugo B. Margain\", \"Raul Salinas Lozano\"], [\"Antonio Ortiz Mena\", \"Raul Salinas Lozano\"], [\"Adolfo Ruiz Cortines\", \"Antonio Ruiz Galindo\"], [\"Manuel Avila Camacho\", \"Andres Serra Rojas\"], [\"Adolfo Lopez Mateos\", \"Gilberto Loyo\"], [\"Alvaro Obregon\", \"Plutarco E. Calles\"], [\"Alvaro Obregon\", \"Miguel Aleman Gonzalez\"], [\"Adolfo Lopez Mateos\", \"Gustavo Diaz Ordaz\"], [\"Adolfo Lopez Mateos\", \"Salomon Gonzalez Blanco\"], [\"Ramon Beteta\", \"Hugo B. Margain\"], [\"Adolfo Lopez Mateos\", \"Antonio Ortiz Mena\"], [\"Ramon Beteta\", \"Mario Ramon Beteta\"], [\"Ramon Beteta\", \"Miguel De la Madrid\"], [\"Adolfo Lopez Mateos\", \"Luis Echeverria Alvarez\"], [\"Alvaro Obregon\", \"Lazaro Cardenas\"], [\"Adolfo Lopez Mateos\", \"Eduardo Bustamante\"], [\"Adolfo Lopez Mateos\", \"Raul Salinas Lozano\"], [\"Alvaro Obregon\", \"Emilio Portes Gil\"], [\"Lazaro Cardenas\", \"Miguel Aleman Valdes\"], [\"Lazaro Cardenas\", \"Ignacio Beteta\"], [\"Luis Echeverria Alvarez\", \"Jose Lopez Portillo\"], [\"Mario Ramon Beteta\", \"Jose Lopez Portillo\"], [\"Miguel De la Madrid\", \"Carlos Salinas de Gortari\"], [\"Lazaro Cardenas\", \"Cuauhtemoc Cardenas\"], [\"Mario Ramon Beteta\", \"Carlos Salinas de Gortari\"], [\"Mario Ramon Beteta\", \"Hugo B. Margain\"], [\"Rodolfo Sanchez Taboada\", \"Adolfo Ruiz Cortines\"], [\"Lazaro Cardenas\", \"Manuel Avila Camacho\"], [\"Rodolfo Sanchez Taboada\", \"Adolfo Lopez Mateos\"], [\"Lazaro Cardenas\", \"Ramon Beteta\"], [\"Mario Ramon Beteta\", \"Miguel De la Madrid\"], [\"Rodolfo Sanchez Taboada\", \"Luis Echeverria Alvarez\"], [\"Lazaro Cardenas\", \"Rodolfo Sanchez Taboada\"], [\"Mario Ramon Beteta\", \"Eduardo Bustamante\"], [\"Lazaro Cardenas\", \"Raul Salinas Lozano\"], [\"Andres Serra Rojas\", \"Antonio Carrillo Flores\"], [\"Antonio Ruiz Galindo\", \"Gilberto Loyo\"], [\"Candido Aguilar\", \"Miguel Aleman Gonzalez\"], [\"Candido Aguilar\", \"Miguel Aleman Valdes\"], [\"Emilio Portes Gil\", \"Antonio Carrillo Flores\"], [\"Candido Aguilar\", \"Heriberto Jara\"], [\"Raul Salinas Lozano\", \"Carlos Salinas de Gortari\"], [\"Emilio Portes Gil\", \"Manuel Avila Camacho\"], [\"Raul Salinas Lozano\", \"Miguel De la Madrid\"], [\"Candido Aguilar\", \"Lazaro Cardenas\"], [\"Emilio Portes Gil\", \"Lazaro Cardenas\"], [\"Andres Serra Rojas\", \"Eduardo Bustamante\"], [\"Eduardo Bustamante\", \"Raul Salinas Lozano\"], [\"Emilio Portes Gil\", \"Andres Serra Rojas\"]], \"ipython\": true, \"error_msg\": \"\"}, e);\n",
       "                });\n",
       "            })();\n",
       "        "
      ]
     },
     "metadata": {},
     "output_type": "display_data"
    }
   ],
   "source": [
    "g = gl.SGraph()\n",
    "g = g.add_edges(gmex, 'X1', 'X2')\n",
    "g.show(vlabel='id', h_offset=0.03, node_size=250, vlabel_hover=True)"
   ]
  },
  {
   "cell_type": "markdown",
   "metadata": {},
   "source": [
    "### 2) For each of the nodes in the dataset, calculate degree centrality and eigenvector centrality."
   ]
  },
  {
   "cell_type": "markdown",
   "metadata": {},
   "source": [
    "#### Show top 10 based on degree centrality"
   ]
  },
  {
   "cell_type": "code",
   "execution_count": 91,
   "metadata": {
    "collapsed": false
   },
   "outputs": [
    {
     "data": {
      "text/plain": [
       "[(u'Miguel Aleman Valdes', 17.0),\n",
       " (u'Adolfo Ruiz Cortines', 13.0),\n",
       " (u'Hugo B. Margain', 12.0),\n",
       " (u'Lazaro Cardenas', 12.0),\n",
       " (u'Antonio Carrillo Flores', 11.0),\n",
       " (u'Adolfo Lopez Mateos', 10.0),\n",
       " (u'Raul Salinas Lozano', 10.0),\n",
       " (u'Antonio Ortiz Mena', 8.0),\n",
       " (u'Emilio Portes Gil', 8.0),\n",
       " (u'Venustiano Carranza', 8.0)]"
      ]
     },
     "execution_count": 91,
     "metadata": {},
     "output_type": "execute_result"
    }
   ],
   "source": [
    "# Sorting function from SNAS pg. 47\n",
    "def sorted_map(map):\n",
    "    ms = sorted(map.iteritems(), key=lambda (k,v): (-v,k))\n",
    "    return ms\n",
    "\n",
    "deg = nx.degree(mex)\n",
    "deg = {k:round(v,1) for k, v in deg.items()}\n",
    "deg_sort = sorted_map(deg)\n",
    "deg_sort[:10]"
   ]
  },
  {
   "cell_type": "markdown",
   "metadata": {},
   "source": [
    "#### For curiosity sake, show top 10 based on closeness centrality"
   ]
  },
  {
   "cell_type": "code",
   "execution_count": 76,
   "metadata": {
    "collapsed": false
   },
   "outputs": [
    {
     "data": {
      "text/plain": [
       "[(u'Miguel Aleman Valdes', 0.667),\n",
       " (u'Lazaro Cardenas', 0.586),\n",
       " (u'Antonio Carrillo Flores', 0.576),\n",
       " (u'Adolfo Ruiz Cortines', 0.567),\n",
       " (u'Hugo B. Margain', 0.548),\n",
       " (u'Raul Salinas Lozano', 0.548),\n",
       " (u'Ramon Beteta', 0.54),\n",
       " (u'Adolfo Lopez Mateos', 0.531),\n",
       " (u'Antonio Ortiz Mena', 0.523),\n",
       " (u'Manuel Avila Camacho', 0.523)]"
      ]
     },
     "execution_count": 76,
     "metadata": {},
     "output_type": "execute_result"
    }
   ],
   "source": [
    "close = nx.closeness_centrality(mex)\n",
    "close = {k:round(v,3) for k, v in close.items()}\n",
    "close_sort = sorted_map(close)\n",
    "close_sort[:10]"
   ]
  },
  {
   "cell_type": "markdown",
   "metadata": {},
   "source": [
    "#### Also show top 10 based on betweenness centrality"
   ]
  },
  {
   "cell_type": "code",
   "execution_count": 78,
   "metadata": {
    "collapsed": false
   },
   "outputs": [
    {
     "data": {
      "text/plain": [
       "[(u'Miguel Aleman Valdes', 0.23),\n",
       " (u'Lazaro Cardenas', 0.157),\n",
       " (u'Adolfo Ruiz Cortines', 0.132),\n",
       " (u'Hugo B. Margain', 0.09),\n",
       " (u'Raul Salinas Lozano', 0.065),\n",
       " (u'Antonio Carrillo Flores', 0.06),\n",
       " (u'Ramon Beteta', 0.058),\n",
       " (u'Emilio Portes Gil', 0.039),\n",
       " (u'Adolfo Lopez Mateos', 0.035),\n",
       " (u'Venustiano Carranza', 0.031)]"
      ]
     },
     "execution_count": 78,
     "metadata": {},
     "output_type": "execute_result"
    }
   ],
   "source": [
    "btw = nx.betweenness_centrality(mex)\n",
    "btw = {k:round(v,3) for k, v in btw.items()}\n",
    "btw_sort = sorted_map(btw)\n",
    "btw_sort[:10]"
   ]
  },
  {
   "cell_type": "markdown",
   "metadata": {},
   "source": [
    "#### Top 10 based on eigenvector centrality"
   ]
  },
  {
   "cell_type": "code",
   "execution_count": 161,
   "metadata": {
    "collapsed": false
   },
   "outputs": [
    {
     "data": {
      "text/plain": [
       "[(u'Miguel Aleman Valdes', 0.371),\n",
       " (u'Antonio Carrillo Flores', 0.287),\n",
       " (u'Adolfo Ruiz Cortines', 0.273),\n",
       " (u'Hugo B. Margain', 0.273),\n",
       " (u'Adolfo Lopez Mateos', 0.25),\n",
       " (u'Antonio Ortiz Mena', 0.248),\n",
       " (u'Raul Salinas Lozano', 0.239),\n",
       " (u'Lazaro Cardenas', 0.214),\n",
       " (u'Gustavo Diaz Ordaz', 0.211),\n",
       " (u'Manuel Avila Camacho', 0.179)]"
      ]
     },
     "execution_count": 161,
     "metadata": {},
     "output_type": "execute_result"
    }
   ],
   "source": [
    "eig = nx.eigenvector_centrality(mex)\n",
    "eig = {k:round(v,3) for k, v in eig.items()}\n",
    "eig_sort = sorted_map(eig)\n",
    "eig_sort[:10]"
   ]
  },
  {
   "cell_type": "markdown",
   "metadata": {},
   "source": [
    "> We see a lot of common names throughout the 4 measures. Other observations:  \n",
    "* Miguel Aleman Valdes is the most connected member by all measures\n",
    "* Centrality scores are generally high, particularly for closeness\n",
    "* Closeness and betweenness ranks seem the most aligned "
   ]
  },
  {
   "cell_type": "markdown",
   "metadata": {},
   "source": [
    "#### Summarize results into one table (sorted by eigenvector)"
   ]
  },
  {
   "cell_type": "code",
   "execution_count": 170,
   "metadata": {
    "collapsed": false
   },
   "outputs": [
    {
     "data": {
      "text/html": [
       "<div>\n",
       "<table border=\"1\" class=\"dataframe\">\n",
       "  <thead>\n",
       "    <tr style=\"text-align: right;\">\n",
       "      <th></th>\n",
       "      <th>Name</th>\n",
       "      <th>Degrees</th>\n",
       "      <th>Closeness</th>\n",
       "      <th>Betweenness</th>\n",
       "      <th>Eigenvector</th>\n",
       "    </tr>\n",
       "  </thead>\n",
       "  <tbody>\n",
       "    <tr>\n",
       "      <th>1</th>\n",
       "      <td>Miguel Aleman Valdes</td>\n",
       "      <td>17</td>\n",
       "      <td>0.667</td>\n",
       "      <td>0.230</td>\n",
       "      <td>0.371</td>\n",
       "    </tr>\n",
       "    <tr>\n",
       "      <th>0</th>\n",
       "      <td>Antonio Carrillo Flores</td>\n",
       "      <td>11</td>\n",
       "      <td>0.576</td>\n",
       "      <td>0.060</td>\n",
       "      <td>0.287</td>\n",
       "    </tr>\n",
       "    <tr>\n",
       "      <th>6</th>\n",
       "      <td>Adolfo Ruiz Cortines</td>\n",
       "      <td>13</td>\n",
       "      <td>0.567</td>\n",
       "      <td>0.132</td>\n",
       "      <td>0.273</td>\n",
       "    </tr>\n",
       "    <tr>\n",
       "      <th>4</th>\n",
       "      <td>Hugo B. Margain</td>\n",
       "      <td>12</td>\n",
       "      <td>0.548</td>\n",
       "      <td>0.090</td>\n",
       "      <td>0.273</td>\n",
       "    </tr>\n",
       "    <tr>\n",
       "      <th>9</th>\n",
       "      <td>Adolfo Lopez Mateos</td>\n",
       "      <td>10</td>\n",
       "      <td>0.531</td>\n",
       "      <td>0.035</td>\n",
       "      <td>0.250</td>\n",
       "    </tr>\n",
       "    <tr>\n",
       "      <th>8</th>\n",
       "      <td>Antonio Ortiz Mena</td>\n",
       "      <td>8</td>\n",
       "      <td>0.523</td>\n",
       "      <td>0.022</td>\n",
       "      <td>0.248</td>\n",
       "    </tr>\n",
       "    <tr>\n",
       "      <th>7</th>\n",
       "      <td>Raul Salinas Lozano</td>\n",
       "      <td>10</td>\n",
       "      <td>0.548</td>\n",
       "      <td>0.065</td>\n",
       "      <td>0.239</td>\n",
       "    </tr>\n",
       "    <tr>\n",
       "      <th>2</th>\n",
       "      <td>Lazaro Cardenas</td>\n",
       "      <td>12</td>\n",
       "      <td>0.586</td>\n",
       "      <td>0.157</td>\n",
       "      <td>0.214</td>\n",
       "    </tr>\n",
       "    <tr>\n",
       "      <th>11</th>\n",
       "      <td>Gustavo Diaz Ordaz</td>\n",
       "      <td>7</td>\n",
       "      <td>0.500</td>\n",
       "      <td>0.014</td>\n",
       "      <td>0.211</td>\n",
       "    </tr>\n",
       "    <tr>\n",
       "      <th>10</th>\n",
       "      <td>Manuel Avila Camacho</td>\n",
       "      <td>7</td>\n",
       "      <td>0.523</td>\n",
       "      <td>0.020</td>\n",
       "      <td>0.179</td>\n",
       "    </tr>\n",
       "    <tr>\n",
       "      <th>12</th>\n",
       "      <td>Ramon Beteta</td>\n",
       "      <td>7</td>\n",
       "      <td>0.540</td>\n",
       "      <td>0.058</td>\n",
       "      <td>0.153</td>\n",
       "    </tr>\n",
       "    <tr>\n",
       "      <th>5</th>\n",
       "      <td>Emilio Portes Gil</td>\n",
       "      <td>8</td>\n",
       "      <td>0.493</td>\n",
       "      <td>0.039</td>\n",
       "      <td>0.147</td>\n",
       "    </tr>\n",
       "    <tr>\n",
       "      <th>3</th>\n",
       "      <td>Venustiano Carranza</td>\n",
       "      <td>8</td>\n",
       "      <td>0.466</td>\n",
       "      <td>0.031</td>\n",
       "      <td>0.118</td>\n",
       "    </tr>\n",
       "  </tbody>\n",
       "</table>\n",
       "</div>"
      ],
      "text/plain": [
       "                       Name  Degrees  Closeness  Betweenness  Eigenvector\n",
       "1      Miguel Aleman Valdes       17      0.667        0.230        0.371\n",
       "0   Antonio Carrillo Flores       11      0.576        0.060        0.287\n",
       "6      Adolfo Ruiz Cortines       13      0.567        0.132        0.273\n",
       "4           Hugo B. Margain       12      0.548        0.090        0.273\n",
       "9       Adolfo Lopez Mateos       10      0.531        0.035        0.250\n",
       "8        Antonio Ortiz Mena        8      0.523        0.022        0.248\n",
       "7       Raul Salinas Lozano       10      0.548        0.065        0.239\n",
       "2           Lazaro Cardenas       12      0.586        0.157        0.214\n",
       "11       Gustavo Diaz Ordaz        7      0.500        0.014        0.211\n",
       "10     Manuel Avila Camacho        7      0.523        0.020        0.179\n",
       "12             Ramon Beteta        7      0.540        0.058        0.153\n",
       "5         Emilio Portes Gil        8      0.493        0.039        0.147\n",
       "3       Venustiano Carranza        8      0.466        0.031        0.118"
      ]
     },
     "execution_count": 170,
     "metadata": {},
     "output_type": "execute_result"
    }
   ],
   "source": [
    "# Reference: SNAS pg. 54\n",
    "# Make a list of the elite group by merging top ten groups for 3 centrality metrics \n",
    "names1=[x[0] for x in deg_sort[:10]]\n",
    "names2=[x[0] for x in close_sort[:10]]\n",
    "names3=[x[0] for x in btw_sort[:10]]\n",
    "names4=[x[0] for x in eig_sort[:10]]\n",
    "\n",
    "# use Python sets to compute a union of the sets \n",
    "names=list(set(names1) | set(names2) | set (names3) | set (names4))\n",
    "\n",
    "## Build a table with centralities \n",
    "table=[[name,deg[name],close[name],btw[name],eig[name]] for name in names]\n",
    "\n",
    "import pandas as pd\n",
    "headers = ['Name', 'Degrees', 'Closeness', 'Betweenness', 'Eigenvector']\n",
    "df = pd.DataFrame(table, columns=headers)\n",
    "df = df.sort(['Eigenvector', 'Degrees'], ascending=[0, 0])\n",
    "df"
   ]
  },
  {
   "cell_type": "markdown",
   "metadata": {},
   "source": [
    "### 3) Compare your centrality measures across your categorical groups"
   ]
  },
  {
   "cell_type": "markdown",
   "metadata": {},
   "source": [
    "#### First let's view the graph based on node attribute  \n",
    "  \n",
    "*Purple = Military nodes*     \n",
    "*Green = Civilian nodes*"
   ]
  },
  {
   "cell_type": "code",
   "execution_count": 158,
   "metadata": {
    "collapsed": false
   },
   "outputs": [
    {
     "data": {
      "application/javascript": [
       "$(\"head\").append($(\"<link/>\").attr({\n",
       "  rel:  \"stylesheet\",\n",
       "  type: \"text/css\",\n",
       "  href: \"//cdnjs.cloudflare.com/ajax/libs/font-awesome/4.1.0/css/font-awesome.min.css\"\n",
       "}));\n",
       "$(\"head\").append($(\"<link/>\").attr({\n",
       "  rel:  \"stylesheet\",\n",
       "  type: \"text/css\",\n",
       "  href: \"//dato.com/files/canvas/1.5.2/css/canvas.css\"\n",
       "}));\n",
       "\n",
       "            (function(){\n",
       "\n",
       "                var e = null;\n",
       "                if (typeof element == 'undefined') {\n",
       "                    var scripts = document.getElementsByTagName('script');\n",
       "                    var thisScriptTag = scripts[scripts.length-1];\n",
       "                    var parentDiv = thisScriptTag.parentNode;\n",
       "                    e = document.createElement('div');\n",
       "                    parentDiv.appendChild(e);\n",
       "                } else {\n",
       "                    e = element[0];\n",
       "                }\n",
       "\n",
       "                require(['//dato.com/files/canvas/1.5.2/js/ipython_app.js'], function(IPythonApp){\n",
       "                    var app = new IPythonApp();\n",
       "                    app.attachView('sgraph','View', {\"edges_labels\": null, \"selected_variable\": {\"name\": [\"g\"], \"view_file\": \"sgraph\", \"view_component\": \"View\", \"view_params\": {\"elabel_hover\": false, \"vertex_positions\": null, \"h_offset\": 0.03, \"node_size\": 250, \"ecolor\": [0.37, 0.33, 0.33], \"elabel\": null, \"arrows\": false, \"ewidth\": 1, \"vlabel\": \"id\", \"highlight_color\": [[0.69, 0.0, 0.498], [0.69, 0.0, 0.498], [0.69, 0.0, 0.498], [0.69, 0.0, 0.498], [0.69, 0.0, 0.498], [0.69, 0.0, 0.498], [0.69, 0.0, 0.498], [0.69, 0.0, 0.498], [0.69, 0.0, 0.498], [0.69, 0.0, 0.498], [0.69, 0.0, 0.498], [0.69, 0.0, 0.498]], \"vcolor\": [0.522, 0.741, 0.0], \"vlabel_hover\": true, \"highlight\": {\"Rodolfo Sanchez Taboada\": [0.69, 0.0, 0.498], \"Miguel Aleman Gonzalez\": [0.69, 0.0, 0.498], \"Plutarco E. Calles\": [0.69, 0.0, 0.498], \"Miguel Aleman Valdes\": [0.69, 0.0, 0.498], \"Alvaro Obregon\": [0.69, 0.0, 0.498], \"Candido Aguilar\": [0.69, 0.0, 0.498], \"Lazaro Cardenas\": [0.69, 0.0, 0.498], \"Venustiano Carranza\": [0.69, 0.0, 0.498], \"Manuel Avila Camacho\": [0.69, 0.0, 0.498], \"Heriberto Jara\": [0.69, 0.0, 0.498], \"Ignacio Beteta\": [0.69, 0.0, 0.498], \"Jacinto B. Trevino\": [0.69, 0.0, 0.498]}, \"v_offset\": 0.03}, \"view_components\": [\"View\"], \"type\": \"SGraph\", \"descriptives_links\": {\"edges\": \"edges\", \"vertices\": \"vertices\"}, \"descriptives\": {\"edges\": 117, \"vertices\": 35}}, \"positions\": null, \"error_type\": 0, \"vertices\": [\"Antonio Carrillo Flores\", \"Gilberto Loyo\", \"Ignacio Beteta\", \"Miguel Aleman Gonzalez\", \"Miguel Aleman Valdes\", \"Plutarco E. Calles\", \"Angel Carvajal\", \"Francisco Madero\", \"Gustavo Diaz Ordaz\", \"Heriberto Jara\", \"Jacinto B. Trevino\", \"Jose Lopez Portillo\", \"Salomon Gonzalez Blanco\", \"Venustiano Carranza\", \"Carlos Salinas de Gortari\", \"Cuauhtemoc Cardenas\", \"Miguel Aleman Velasco\", \"Adolfo Ruiz Cortines\", \"Antonio Ortiz Mena\", \"Hugo B. Margain\", \"Manuel Avila Camacho\", \"Adolfo Lopez Mateos\", \"Alvaro Obregon\", \"Ramon Beteta\", \"Lazaro Cardenas\", \"Luis Echeverria Alvarez\", \"Mario Ramon Beteta\", \"Miguel De la Madrid\", \"Rodolfo Sanchez Taboada\", \"Andres Serra Rojas\", \"Antonio Ruiz Galindo\", \"Candido Aguilar\", \"Eduardo Bustamante\", \"Emilio Portes Gil\", \"Raul Salinas Lozano\"], \"vertices_labels\": [\"Antonio Carrillo Flores\", \"Gilberto Loyo\", \"Ignacio Beteta\", \"Miguel Aleman Gonzalez\", \"Miguel Aleman Valdes\", \"Plutarco E. Calles\", \"Angel Carvajal\", \"Francisco Madero\", \"Gustavo Diaz Ordaz\", \"Heriberto Jara\", \"Jacinto B. Trevino\", \"Jose Lopez Portillo\", \"Salomon Gonzalez Blanco\", \"Venustiano Carranza\", \"Carlos Salinas de Gortari\", \"Cuauhtemoc Cardenas\", \"Miguel Aleman Velasco\", \"Adolfo Ruiz Cortines\", \"Antonio Ortiz Mena\", \"Hugo B. Margain\", \"Manuel Avila Camacho\", \"Adolfo Lopez Mateos\", \"Alvaro Obregon\", \"Ramon Beteta\", \"Lazaro Cardenas\", \"Luis Echeverria Alvarez\", \"Mario Ramon Beteta\", \"Miguel De la Madrid\", \"Rodolfo Sanchez Taboada\", \"Andres Serra Rojas\", \"Antonio Ruiz Galindo\", \"Candido Aguilar\", \"Eduardo Bustamante\", \"Emilio Portes Gil\", \"Raul Salinas Lozano\"], \"edges\": [[\"Miguel Aleman Gonzalez\", \"Miguel Aleman Valdes\"], [\"Miguel Aleman Valdes\", \"Antonio Carrillo Flores\"], [\"Antonio Carrillo Flores\", \"Gustavo Diaz Ordaz\"], [\"Miguel Aleman Gonzalez\", \"Heriberto Jara\"], [\"Miguel Aleman Valdes\", \"Angel Carvajal\"], [\"Miguel Aleman Valdes\", \"Gustavo Diaz Ordaz\"], [\"Miguel Aleman Valdes\", \"Miguel Aleman Velasco\"], [\"Antonio Carrillo Flores\", \"Antonio Ortiz Mena\"], [\"Miguel Aleman Valdes\", \"Adolfo Ruiz Cortines\"], [\"Miguel Aleman Valdes\", \"Hugo B. Margain\"], [\"Miguel Aleman Valdes\", \"Antonio Ortiz Mena\"], [\"Miguel Aleman Valdes\", \"Ramon Beteta\"], [\"Miguel Aleman Valdes\", \"Adolfo Lopez Mateos\"], [\"Ignacio Beteta\", \"Ramon Beteta\"], [\"Plutarco E. Calles\", \"Ramon Beteta\"], [\"Ignacio Beteta\", \"Mario Ramon Beteta\"], [\"Miguel Aleman Valdes\", \"Rodolfo Sanchez Taboada\"], [\"Plutarco E. Calles\", \"Lazaro Cardenas\"], [\"Antonio Carrillo Flores\", \"Eduardo Bustamante\"], [\"Antonio Carrillo Flores\", \"Raul Salinas Lozano\"], [\"Gilberto Loyo\", \"Raul Salinas Lozano\"], [\"Miguel Aleman Valdes\", \"Andres Serra Rojas\"], [\"Miguel Aleman Valdes\", \"Antonio Ruiz Galindo\"], [\"Miguel Aleman Valdes\", \"Eduardo Bustamante\"], [\"Plutarco E. Calles\", \"Emilio Portes Gil\"], [\"Angel Carvajal\", \"Antonio Carrillo Flores\"], [\"Francisco Madero\", \"Plutarco E. Calles\"], [\"Francisco Madero\", \"Jacinto B. Trevino\"], [\"Francisco Madero\", \"Venustiano Carranza\"], [\"Angel Carvajal\", \"Adolfo Ruiz Cortines\"], [\"Gustavo Diaz Ordaz\", \"Antonio Ortiz Mena\"], [\"Heriberto Jara\", \"Manuel Avila Camacho\"], [\"Heriberto Jara\", \"Adolfo Ruiz Cortines\"], [\"Jacinto B. Trevino\", \"Adolfo Ruiz Cortines\"], [\"Francisco Madero\", \"Alvaro Obregon\"], [\"Gustavo Diaz Ordaz\", \"Luis Echeverria Alvarez\"], [\"Jose Lopez Portillo\", \"Miguel De la Madrid\"], [\"Heriberto Jara\", \"Lazaro Cardenas\"], [\"Francisco Madero\", \"Candido Aguilar\"], [\"Francisco Madero\", \"Emilio Portes Gil\"], [\"Salomon Gonzalez Blanco\", \"Antonio Carrillo Flores\"], [\"Venustiano Carranza\", \"Plutarco E. Calles\"], [\"Venustiano Carranza\", \"Miguel Aleman Gonzalez\"], [\"Venustiano Carranza\", \"Jacinto B. Trevino\"], [\"Venustiano Carranza\", \"Adolfo Ruiz Cortines\"], [\"Venustiano Carranza\", \"Alvaro Obregon\"], [\"Salomon Gonzalez Blanco\", \"Raul Salinas Lozano\"], [\"Venustiano Carranza\", \"Candido Aguilar\"], [\"Venustiano Carranza\", \"Emilio Portes Gil\"], [\"Carlos Salinas de Gortari\", \"Miguel Aleman Velasco\"], [\"Miguel Aleman Velasco\", \"Cuauhtemoc Cardenas\"], [\"Adolfo Ruiz Cortines\", \"Antonio Carrillo Flores\"], [\"Adolfo Ruiz Cortines\", \"Gilberto Loyo\"], [\"Hugo B. Margain\", \"Antonio Carrillo Flores\"], [\"Manuel Avila Camacho\", \"Miguel Aleman Valdes\"], [\"Hugo B. Margain\", \"Gustavo Diaz Ordaz\"], [\"Hugo B. Margain\", \"Jose Lopez Portillo\"], [\"Manuel Avila Camacho\", \"Gustavo Diaz Ordaz\"], [\"Adolfo Ruiz Cortines\", \"Salomon Gonzalez Blanco\"], [\"Hugo B. Margain\", \"Salomon Gonzalez Blanco\"], [\"Hugo B. Margain\", \"Carlos Salinas de Gortari\"], [\"Antonio Ortiz Mena\", \"Carlos Salinas de Gortari\"], [\"Adolfo Ruiz Cortines\", \"Antonio Ortiz Mena\"], [\"Hugo B. Margain\", \"Antonio Ortiz Mena\"], [\"Manuel Avila Camacho\", \"Adolfo Ruiz Cortines\"], [\"Adolfo Ruiz Cortines\", \"Adolfo Lopez Mateos\"], [\"Hugo B. Margain\", \"Luis Echeverria Alvarez\"], [\"Hugo B. Margain\", \"Miguel De la Madrid\"], [\"Adolfo Ruiz Cortines\", \"Antonio Ruiz Galindo\"], [\"Hugo B. Margain\", \"Raul Salinas Lozano\"], [\"Antonio Ortiz Mena\", \"Raul Salinas Lozano\"], [\"Manuel Avila Camacho\", \"Andres Serra Rojas\"], [\"Adolfo Lopez Mateos\", \"Gilberto Loyo\"], [\"Alvaro Obregon\", \"Plutarco E. Calles\"], [\"Alvaro Obregon\", \"Miguel Aleman Gonzalez\"], [\"Adolfo Lopez Mateos\", \"Gustavo Diaz Ordaz\"], [\"Adolfo Lopez Mateos\", \"Salomon Gonzalez Blanco\"], [\"Ramon Beteta\", \"Hugo B. Margain\"], [\"Adolfo Lopez Mateos\", \"Antonio Ortiz Mena\"], [\"Ramon Beteta\", \"Mario Ramon Beteta\"], [\"Ramon Beteta\", \"Miguel De la Madrid\"], [\"Adolfo Lopez Mateos\", \"Luis Echeverria Alvarez\"], [\"Alvaro Obregon\", \"Lazaro Cardenas\"], [\"Adolfo Lopez Mateos\", \"Eduardo Bustamante\"], [\"Adolfo Lopez Mateos\", \"Raul Salinas Lozano\"], [\"Alvaro Obregon\", \"Emilio Portes Gil\"], [\"Lazaro Cardenas\", \"Miguel Aleman Valdes\"], [\"Lazaro Cardenas\", \"Ignacio Beteta\"], [\"Mario Ramon Beteta\", \"Jose Lopez Portillo\"], [\"Luis Echeverria Alvarez\", \"Jose Lopez Portillo\"], [\"Mario Ramon Beteta\", \"Carlos Salinas de Gortari\"], [\"Miguel De la Madrid\", \"Carlos Salinas de Gortari\"], [\"Lazaro Cardenas\", \"Cuauhtemoc Cardenas\"], [\"Mario Ramon Beteta\", \"Hugo B. Margain\"], [\"Rodolfo Sanchez Taboada\", \"Adolfo Ruiz Cortines\"], [\"Lazaro Cardenas\", \"Manuel Avila Camacho\"], [\"Rodolfo Sanchez Taboada\", \"Adolfo Lopez Mateos\"], [\"Lazaro Cardenas\", \"Ramon Beteta\"], [\"Mario Ramon Beteta\", \"Miguel De la Madrid\"], [\"Rodolfo Sanchez Taboada\", \"Luis Echeverria Alvarez\"], [\"Lazaro Cardenas\", \"Rodolfo Sanchez Taboada\"], [\"Mario Ramon Beteta\", \"Eduardo Bustamante\"], [\"Lazaro Cardenas\", \"Raul Salinas Lozano\"], [\"Andres Serra Rojas\", \"Antonio Carrillo Flores\"], [\"Antonio Ruiz Galindo\", \"Gilberto Loyo\"], [\"Candido Aguilar\", \"Miguel Aleman Gonzalez\"], [\"Candido Aguilar\", \"Miguel Aleman Valdes\"], [\"Emilio Portes Gil\", \"Antonio Carrillo Flores\"], [\"Candido Aguilar\", \"Heriberto Jara\"], [\"Raul Salinas Lozano\", \"Carlos Salinas de Gortari\"], [\"Emilio Portes Gil\", \"Manuel Avila Camacho\"], [\"Raul Salinas Lozano\", \"Miguel De la Madrid\"], [\"Candido Aguilar\", \"Lazaro Cardenas\"], [\"Emilio Portes Gil\", \"Lazaro Cardenas\"], [\"Andres Serra Rojas\", \"Eduardo Bustamante\"], [\"Eduardo Bustamante\", \"Raul Salinas Lozano\"], [\"Emilio Portes Gil\", \"Andres Serra Rojas\"]], \"ipython\": true, \"error_msg\": \"\"}, e);\n",
       "                });\n",
       "            })();\n",
       "        "
      ]
     },
     "metadata": {},
     "output_type": "display_data"
    }
   ],
   "source": [
    "military = []\n",
    "for k, v in mex.node.items():\n",
    "    if v['professional'] == '1':\n",
    "         military.append(k)\n",
    "          \n",
    "g.show(vlabel='id', h_offset=0.03, node_size=250, vlabel_hover=True, highlight=military)"
   ]
  },
  {
   "cell_type": "markdown",
   "metadata": {},
   "source": [
    "> In such a closed network, my initial thought is there is unlikely to be significant differences between military and civilian groups. "
   ]
  },
  {
   "cell_type": "markdown",
   "metadata": {},
   "source": [
    "#### Add all measures to node attributes"
   ]
  },
  {
   "cell_type": "code",
   "execution_count": 92,
   "metadata": {
    "collapsed": false
   },
   "outputs": [
    {
     "data": {
      "text/plain": [
       "{u'Antonio Carrillo Flores': {'betweenness': 0.06,\n",
       "  'closeness': 0.576,\n",
       "  'degrees': 11.0,\n",
       "  'eigenvector': 0.287,\n",
       "  'professional': '2'},\n",
       " u'Candido Aguilar': {'betweenness': 0.021,\n",
       "  'closeness': 0.493,\n",
       "  'degrees': 6.0,\n",
       "  'eigenvector': 0.12,\n",
       "  'professional': '1'},\n",
       " u'Luis Echeverria Alvarez': {'betweenness': 0.011,\n",
       "  'closeness': 0.43,\n",
       "  'degrees': 5.0,\n",
       "  'eigenvector': 0.117,\n",
       "  'professional': '2'}}"
      ]
     },
     "execution_count": 92,
     "metadata": {},
     "output_type": "execute_result"
    }
   ],
   "source": [
    "nx.set_node_attributes(mex, 'degrees', deg)\n",
    "nx.set_node_attributes(mex, 'closeness', close)\n",
    "nx.set_node_attributes(mex, 'betweenness', btw)\n",
    "nx.set_node_attributes(mex, 'eigenvector', eig)\n",
    "\n",
    "# Sample node format\n",
    "{k: mex.node[k] for k in mex.node.keys()[:3]}"
   ]
  },
  {
   "cell_type": "markdown",
   "metadata": {},
   "source": [
    "#### Group data measures by professional background (1 - military in class, 2 - civilians)"
   ]
  },
  {
   "cell_type": "code",
   "execution_count": 156,
   "metadata": {
    "collapsed": false
   },
   "outputs": [
    {
     "name": "stdout",
     "output_type": "stream",
     "text": [
      "Military sample size: 12\n",
      "Civilian sample size: 23\n"
     ]
    }
   ],
   "source": [
    "def create_groups(g, measure):\n",
    "    military = []\n",
    "    civilian = []\n",
    "    for k, v in g.node.items():\n",
    "        if v['professional'] == '1':\n",
    "            military.append(v[measure])\n",
    "        else:\n",
    "            civilian.append(v[measure])\n",
    "            \n",
    "    return(military, civilian)\n",
    "\n",
    "military_deg = create_groups(mex, 'degrees')[0]\n",
    "civilian_deg = create_groups(mex, 'degrees')[1]\n",
    "\n",
    "# Get group size\n",
    "print \"Military sample size: %d\" %len(military_deg)\n",
    "print \"Civilian sample size: %d\" %len(civilian_deg)"
   ]
  },
  {
   "cell_type": "markdown",
   "metadata": {},
   "source": [
    "#### Compare average values in each group"
   ]
  },
  {
   "cell_type": "code",
   "execution_count": 108,
   "metadata": {
    "collapsed": false
   },
   "outputs": [
    {
     "name": "stdout",
     "output_type": "stream",
     "text": [
      "Military avg. degrees: 6.917\n",
      "Civilian avg. degrees: 6.565\n",
      "\n",
      "Military avg. closeness: 0.491\n",
      "Civilian avg. closeness: 0.478\n",
      "\n",
      "Military avg. betweenness: 0.045\n",
      "Civilian avg. betweenness: 0.028\n",
      "\n",
      "Military avg. eigenvector: 0.139\n",
      "Civilian avg. eigenvector: 0.157\n",
      "\n"
     ]
    }
   ],
   "source": [
    "def group_results(g, measure):\n",
    "    dgroups = create_groups(g, measure)\n",
    "    print \"Military avg. %s: %.3f\" %(measure, float(sum(dgroups[0])/len(dgroups[0])))\n",
    "    print \"Civilian avg. %s: %.3f\\n\" %(measure, float(sum(dgroups[1])/len(dgroups[1])))\n",
    "        \n",
    "group_results(mex, 'degrees')\n",
    "group_results(mex, 'closeness')\n",
    "group_results(mex, 'betweenness')\n",
    "group_results(mex, 'eigenvector')"
   ]
  },
  {
   "cell_type": "markdown",
   "metadata": {},
   "source": [
    "#### Are the groups different? From first glance at the graph and numbers, it doesn't appear so. We can use a t-test to determine statistical significance"
   ]
  },
  {
   "cell_type": "code",
   "execution_count": 127,
   "metadata": {
    "collapsed": false
   },
   "outputs": [
    {
     "name": "stdout",
     "output_type": "stream",
     "text": [
      "T-test p-values:\n",
      "\n",
      "degrees: 0.7708\n",
      "closeness: 0.5635\n",
      "betweenness: 0.3374\n",
      "eigenvector: 0.5257\n"
     ]
    }
   ],
   "source": [
    "from scipy import stats\n",
    "\n",
    "def calc_ttest(g, measure):\n",
    "    military = create_groups(g, measure)[0]\n",
    "    civilian = create_groups(g, measure)[1]\n",
    "    t = stats.ttest_ind(military, civilian)\n",
    "    print \"%s: %.4f\" %(measure, t[1])\n",
    "\n",
    "print \"T-test p-values:\\n\"\n",
    "calc_ttest(mex, 'degrees')\n",
    "calc_ttest(mex, 'closeness')\n",
    "calc_ttest(mex, 'betweenness')\n",
    "calc_ttest(mex, 'eigenvector')"
   ]
  },
  {
   "cell_type": "markdown",
   "metadata": {},
   "source": [
    "> Confirmed, none of the measures are statistically different between groups at multiple significance levels."
   ]
  },
  {
   "cell_type": "markdown",
   "metadata": {},
   "source": [
    "### Conclusion\n",
    "\n",
    "This is a small closed network so we would expect to find a lot of centrality, particularly in closeness. By the same token, this did not lead to any significant difference between Mexican leaders who were had military versus civilian professional backgrounds. Perhaps this is not overly surprising given that the network is inherently from one political party and the dataset itself aims to highlight the connectivity of a single 'Mexican Elite' network. While there may not be centrality measure differences between military and civilian groups, another look at the attribute-divided graph indicates there may be some clustering or other variability.\n",
    "\n",
    "* draw graph with degree-base nodes\n",
    "* github, nbviewer link\n"
   ]
  },
  {
   "cell_type": "code",
   "execution_count": null,
   "metadata": {
    "collapsed": true
   },
   "outputs": [],
   "source": []
  }
 ],
 "metadata": {
  "kernelspec": {
   "display_name": "Python 2",
   "language": "python",
   "name": "python2"
  },
  "language_info": {
   "codemirror_mode": {
    "name": "ipython",
    "version": 2
   },
   "file_extension": ".py",
   "mimetype": "text/x-python",
   "name": "python",
   "nbconvert_exporter": "python",
   "pygments_lexer": "ipython2",
   "version": "2.7.9"
  }
 },
 "nbformat": 4,
 "nbformat_minor": 0
}
