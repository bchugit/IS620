{
 "cells": [
  {
   "cell_type": "markdown",
   "metadata": {},
   "source": [
    "##IS 620 - Week 2 Assignment"
   ]
  },
  {
   "cell_type": "markdown",
   "metadata": {},
   "source": [
    "Brian Chu | Sept. 6, 2015"
   ]
  },
  {
   "cell_type": "markdown",
   "metadata": {},
   "source": [
    "This is an example of a basic graph association using GraphLab Create. The data describes a social network of tribes of the Gahuku–Gama alliance structure of the Eastern Central Highlands of New Guinea, from Kenneth Read (1954). Links represent signed friendships between tribes.\n",
    "\n",
    "Source: http://networkrepository.com/soc_tribes.php"
   ]
  },
  {
   "cell_type": "code",
   "execution_count": 1,
   "metadata": {},
   "source": [
    "from graphlab import SFrame, SGraph"
   ]
  },
  {
   "cell_type": "code",
   "execution_count": 2,
   "metadata": {},
   "outputs": [
    {
     "name": "stderr",
     "output_type": "stream",
     "text": [
      "[INFO] This trial license of GraphLab Create is assigned to chueeey@gmail.com and will expire on September 27, 2015. Please contact trial@dato.com for licensing options or to request a free non-commercial license for personal or academic use.\n\n"
     ]
    },
    {
     "name": "stderr",
     "output_type": "stream",
     "text": [
      "[INFO] Start server at: ipc:///tmp/graphlab_server-8146 - Server binary: /Library/Python/2.7/site-packages/graphlab/unity_server - Server log: /tmp/graphlab_server_1441369629.log\n"
     ]
    },
    {
     "name": "stderr",
     "output_type": "stream",
     "text": [
      "[INFO] GraphLab Server Version: 1.5.2\n"
     ]
    },
    {
     "name": "stdout",
     "output_type": "stream",
     "text": [
      "PROGRESS: Downloading https://raw.githubusercontent.com/bchugit/IS620_WebAnalytics/master/tribes.csv to /var/tmp/graphlab-bc/8146/000000.csv\nPROGRESS: Finished parsing file https://raw.githubusercontent.com/bchugit/IS620_WebAnalytics/master/tribes.csv\nPROGRESS: Parsing completed. Parsed 58 lines in 0.03589 secs.\n------------------------------------------------------"
     ]
    },
    {
     "name": "stdout",
     "output_type": "stream",
     "text": [
      "\nInferred types from first line of file as \ncolumn_type_hints=[int,int,int]\nIf parsing fails due to incorrect types, you can correct\nthe inferred type list above and pass it to read_csv in\nthe column_type_hints argument\n------------------------------------------------------\nPROGRESS: Finished parsing file https://raw.githubusercontent.com/bchugit/IS620_WebAnalytics/master/tribes.csv\nPROGRESS: Parsing completed. Parsed 58 lines in 0.020861 secs.\n"
     ]
    }
   ],
   "source": [
    "# Import data\n",
    "edge_data = SFrame.read_csv('https://raw.githubusercontent.com/bchugit/IS620_WebAnalytics/master/tribes.csv')"
   ]
  },
  {
   "cell_type": "code",
   "execution_count": 3,
   "metadata": {},
   "outputs": [],
   "source": [
    "# Initiate graph object\n",
    "g = SGraph()\n",
    "g = g.add_edges(edge_data, src_field='tribe_orig', dst_field='tribe_dest')"
   ]
  },
  {
   "cell_type": "code",
   "execution_count": 4,
   "metadata": {},
   "outputs": [],
   "source": [
    "g.show(vlabel='id', arrows=True)"
   ]
  }
 ],
 "metadata": {
  "kernelspec": {
   "display_name": "Python 2",
   "language": "python",
   "name": "python2"
  },
  "language_info": {
   "codemirror_mode": {
    "name": "ipython",
    "version": 2.0
   },
   "file_extension": ".py",
   "mimetype": "text/x-python",
   "name": "python",
   "nbconvert_exporter": "python",
   "pygments_lexer": "ipython2",
   "version": "2.7.9"
  }
 },
 "nbformat": 4,
 "nbformat_minor": 0
}
