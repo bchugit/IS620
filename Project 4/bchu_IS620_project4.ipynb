{
 "cells": [
  {
   "cell_type": "markdown",
   "metadata": {},
   "source": [
    "## IS620 - Project 4\n",
    "### Brian Chu | November 22, 2015"
   ]
  },
  {
   "cell_type": "markdown",
   "metadata": {},
   "source": [
    "### Using the movie review document classifier discussed in this chapter, generate a list of the 30 features that the classifier finds to be most informative. Can you explain why these particular features are informative? Do you find any of them surprising?"
   ]
  },
  {
   "cell_type": "markdown",
   "metadata": {},
   "source": [
    "*Note: much of the code below is from NLTK Chapter 6, as per the question instructions*"
   ]
  },
  {
   "cell_type": "code",
   "execution_count": 1,
   "metadata": {
    "collapsed": true
   },
   "outputs": [],
   "source": [
    "import nltk\n",
    "import sklearn as sk\n",
    "from nltk.corpus import movie_reviews\n",
    "import pandas as pd"
   ]
  },
  {
   "cell_type": "markdown",
   "metadata": {},
   "source": [
    "#### Extract top 2000 words in all movie reviews"
   ]
  },
  {
   "cell_type": "code",
   "execution_count": 2,
   "metadata": {
    "collapsed": false
   },
   "outputs": [
    {
     "data": {
      "text/plain": [
       "[u'sucess',\n",
       " u'sonja',\n",
       " u'askew',\n",
       " u'woods',\n",
       " u'spiders',\n",
       " u'bazooms',\n",
       " u'hanging',\n",
       " u'francesca',\n",
       " u'comically',\n",
       " u'localized']"
      ]
     },
     "execution_count": 2,
     "metadata": {},
     "output_type": "execute_result"
    }
   ],
   "source": [
    "words = movie_reviews.words()\n",
    "all_words = nltk.FreqDist(w.lower() for w in words) # sorted most popular {words: freq}\n",
    "word_features = all_words.keys()[:2000] # only use top 2000 words; otherwise training too slow\n",
    "\n",
    "# Sample data\n",
    "word_features[:10]"
   ]
  },
  {
   "cell_type": "markdown",
   "metadata": {},
   "source": [
    "#### Extract list of words and overall classification (pos/neg) from each review "
   ]
  },
  {
   "cell_type": "code",
   "execution_count": 3,
   "metadata": {
    "collapsed": false
   },
   "outputs": [
    {
     "data": {
      "text/plain": [
       "([u'plot', u':', u'two', u'teen', u'couples'], u'neg')"
      ]
     },
     "execution_count": 3,
     "metadata": {},
     "output_type": "execute_result"
    }
   ],
   "source": [
    "documents = [(list(movie_reviews.words(fileid)), category)\n",
    "             for category in movie_reviews.categories()\n",
    "             for fileid in movie_reviews.fileids(category)]\n",
    "\n",
    "# Sample row\n",
    "(documents[0][0][:5], documents[0][1])"
   ]
  },
  {
   "cell_type": "markdown",
   "metadata": {},
   "source": [
    "#### Create feature set and class for each review against list of 2000 top words"
   ]
  },
  {
   "cell_type": "code",
   "execution_count": 4,
   "metadata": {
    "collapsed": true
   },
   "outputs": [],
   "source": [
    "# Extract words (true/false) from document\n",
    "\n",
    "def document_features(document): # [_document-classify-extractor]\n",
    "    document_words = set(document) # [_document-classify-set]\n",
    "    features = {}\n",
    "    for word in word_features:\n",
    "        features['contains({})'.format(word)] = (word in document_words)\n",
    "    return features\n",
    "\n",
    "featuresets = [(document_features(d), c) for (d,c) in documents] "
   ]
  },
  {
   "cell_type": "markdown",
   "metadata": {},
   "source": [
    "#### Split into training and test sets"
   ]
  },
  {
   "cell_type": "code",
   "execution_count": 5,
   "metadata": {
    "collapsed": false
   },
   "outputs": [],
   "source": [
    "train_set, test_set = featuresets[100:], featuresets[:100]"
   ]
  },
  {
   "cell_type": "markdown",
   "metadata": {},
   "source": [
    "#### Train data using Naive Bayes classifier"
   ]
  },
  {
   "cell_type": "code",
   "execution_count": 6,
   "metadata": {
    "collapsed": true
   },
   "outputs": [],
   "source": [
    "import random\n",
    "random.seed(212)\n",
    "classifier = nltk.NaiveBayesClassifier.train(train_set)"
   ]
  },
  {
   "cell_type": "markdown",
   "metadata": {},
   "source": [
    "#### Show 30 most informative features from training classifier"
   ]
  },
  {
   "cell_type": "code",
   "execution_count": 7,
   "metadata": {
    "collapsed": false
   },
   "outputs": [
    {
     "name": "stdout",
     "output_type": "stream",
     "text": [
      "Most Informative Features\n",
      "          contains(sans) = True              neg : pos    =     10.0 : 1.0\n",
      "    contains(mediocrity) = True              neg : pos    =      8.5 : 1.0\n",
      "         contains(wires) = True              neg : pos    =      7.0 : 1.0\n",
      "          contains(hugo) = True              pos : neg    =      6.9 : 1.0\n",
      "     contains(dismissed) = True              pos : neg    =      6.3 : 1.0\n",
      "   contains(bruckheimer) = True              neg : pos    =      6.3 : 1.0\n",
      "        contains(fabric) = True              pos : neg    =      5.7 : 1.0\n",
      "   contains(overwhelmed) = True              pos : neg    =      5.7 : 1.0\n",
      "   contains(understands) = True              pos : neg    =      5.6 : 1.0\n",
      "           contains(ugh) = True              neg : pos    =      5.6 : 1.0\n",
      "     contains(uplifting) = True              pos : neg    =      5.5 : 1.0\n",
      "        contains(doubts) = True              pos : neg    =      5.2 : 1.0\n",
      "         contains(tripe) = True              neg : pos    =      5.1 : 1.0\n",
      "  contains(accomplishes) = True              pos : neg    =      5.1 : 1.0\n",
      "       contains(topping) = True              pos : neg    =      5.1 : 1.0\n",
      "          contains(wits) = True              pos : neg    =      5.1 : 1.0\n",
      "          contains(lang) = True              pos : neg    =      5.1 : 1.0\n",
      "  contains(effortlessly) = True              pos : neg    =      5.0 : 1.0\n",
      "       contains(quicker) = True              neg : pos    =      4.8 : 1.0\n",
      "         contains(locks) = True              neg : pos    =      4.8 : 1.0\n",
      "     contains(testament) = True              pos : neg    =      4.5 : 1.0\n",
      "           contains(wcw) = True              neg : pos    =      4.1 : 1.0\n",
      "       contains(maxwell) = True              neg : pos    =      4.1 : 1.0\n",
      "      contains(squabble) = True              neg : pos    =      4.1 : 1.0\n",
      "        contains(minnie) = True              pos : neg    =      4.0 : 1.0\n",
      "      contains(matheson) = True              pos : neg    =      3.9 : 1.0\n",
      "          contains(leia) = True              pos : neg    =      3.9 : 1.0\n",
      "         contains(spins) = True              pos : neg    =      3.9 : 1.0\n",
      "            contains(33) = True              pos : neg    =      3.9 : 1.0\n",
      "          contains(wang) = True              pos : neg    =      3.9 : 1.0\n"
     ]
    }
   ],
   "source": [
    "classifier.show_most_informative_features(30)"
   ]
  },
  {
   "cell_type": "markdown",
   "metadata": {},
   "source": [
    "## Not surprising"
   ]
  },
  {
   "cell_type": "markdown",
   "metadata": {},
   "source": [
    "**Mediocrity | negative**: By definition, not a very positive review  \n",
    "**Ugh | negative**: Self-explanatory. Surprised though that this 'word' came up so frequently  \n",
    "** Uplifting | positive**: Hard to call a bad movie, 'uplifitng'  \n",
    "**Accomplishes | positive**: Usually used in a positive sense, \"director/movie/actor accomplishes the goal of telling the story\"  \n",
    "**Effortlessly | positive**: Also more of a positive descriptor\n",
    "**Leia | positive**: I mean, if it's Princess Leia we're talking about, this is a no-brainer :)\n"
   ]
  },
  {
   "cell_type": "markdown",
   "metadata": {},
   "source": [
    "## Surprising"
   ]
  },
  {
   "cell_type": "markdown",
   "metadata": {},
   "source": [
    "**Sans | negative**: Only surprised that this is the most informative feature. Sure it means 'without', but is it used that often? Maybe in moview reviews.  \n",
    "**Wires | negative**: Are there a lot of bad movies involving wires?  \n",
    "**Hugo | positive**: I assume Victor Hugo? I haven't seen Les Miserables, but didn't know it was so univerally liked  \n",
    "**Bruckheimer | negative**: The Rock, Bad Boys, Top Gun, Beverly Hills Cop?! C'mon, this isn't Cannes.  \n",
    "**Fabric | positive**: \"Uncovers the true fabric of our society\". I guess this is a popular positive movie cliche?  \n",
    "**Doubts | positive**: If anything, I would have defaulted this to a negative connotation  \n",
    "**Quicker | negative**: Not sure how this is so related to negative reviews. Maybe \"I wish the movie would end quicker\"?  \n",
    "**Wcw | negative**: I don't even know what this means or stands for  \n",
    "**Minnie | positive**: Minnie Mouse? Minnie Driver? Ok...  \n",
    "**Wang | positive**: Not sure if I'm more surprised it made the top 30, or that it's 4:1 positive. Boogie Nights?  "
   ]
  }
 ],
 "metadata": {
  "kernelspec": {
   "display_name": "Python 2",
   "language": "python",
   "name": "python2"
  },
  "language_info": {
   "codemirror_mode": {
    "name": "ipython",
    "version": 2
   },
   "file_extension": ".py",
   "mimetype": "text/x-python",
   "name": "python",
   "nbconvert_exporter": "python",
   "pygments_lexer": "ipython2",
   "version": "2.7.9"
  }
 },
 "nbformat": 4,
 "nbformat_minor": 0
}
