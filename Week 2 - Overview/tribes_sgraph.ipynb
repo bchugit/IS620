{
 "cells": [
  {
   "cell_type": "markdown",
   "metadata": {},
   "source": [
    "## IS620 - Week2 Assignment\n",
    "### Brian Chu\n",
    "### Sept. 6, 2015"
   ]
  },
  {
   "cell_type": "markdown",
   "metadata": {},
   "source": [
    "This is an example of a basic graph association using GraphLab Create. The data describes a social network of tribes of the Gahuku–Gama alliance structure of the Eastern Central Highlands of New Guinea, from Kenneth Read (1954). Links represent signed friendships between tribes.\n",
    "\n",
    "Source: http://networkrepository.com/soc_tribes.php"
   ]
  },
  {
   "cell_type": "code",
   "execution_count": 2,
   "metadata": {},
   "outputs": [],
   "source": [
    "import graphlab as gl\n",
    "gl.canvas.set_target('ipynb')"
   ]
  },
  {
   "cell_type": "code",
   "execution_count": 4,
   "metadata": {},
   "outputs": [],
   "source": [
    "%%capture \n",
    "# Import data\n",
    "edge_data = gl.SFrame.read_csv('tribes.csv')"
   ]
  },
  {
   "cell_type": "code",
   "execution_count": 5,
   "metadata": {},
   "outputs": [],
   "source": [
    "# Initiate graph object\n",
    "g = gl.SGraph()\n",
    "g = g.add_edges(edge_data, src_field='tribe_orig', dst_field='tribe_dest')"
   ]
  },
  {
   "cell_type": "code",
   "execution_count": 6,
   "metadata": {},
   "outputs": [
    {
     "metadata": {}
    }
   ],
   "source": [
    "# Draw graph\n",
    "g.show(vlabel='id', arrows=True)"
   ]
  },
  {
   "cell_type": "markdown",
   "metadata": {},
   "source": [
    "If graph not visible, click <a href='http://nbviewer.ipython.org/github/bchugit/IS620_WebAnalytics/blob/master/tribes_sgraph.ipynb'>here</a>"
   ]
  }
 ],
 "metadata": {
  "kernelspec": {
   "display_name": "Python 2",
   "language": "python",
   "name": "python2"
  },
  "language_info": {
   "codemirror_mode": {
    "name": "ipython",
    "version": 2.0
   },
   "file_extension": ".py",
   "mimetype": "text/x-python",
   "name": "python",
   "nbconvert_exporter": "python",
   "pygments_lexer": "ipython2",
   "version": "2.7.9"
  }
 },
 "nbformat": 4,
 "nbformat_minor": 0
}