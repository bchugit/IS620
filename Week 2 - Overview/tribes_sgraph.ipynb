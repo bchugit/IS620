{
 "cells": [
  {
   "cell_type": "markdown",
   "metadata": {},
   "source": [
    "## IS620 - Week2 Assignment\n",
    "### Brian Chu\n",
    "### Sept. 6, 2015"
   ]
  },
  {
   "cell_type": "markdown",
   "metadata": {},
   "source": [
    "This is an example of a basic graph association using GraphLab Create. The data describes a social network of tribes of the Gahuku–Gama alliance structure of the Eastern Central Highlands of New Guinea, from Kenneth Read (1954). Links represent signed friendships between tribes.\n",
    "\n",
    "Source: http://networkrepository.com/soc_tribes.php"
   ]
  },
  {
   "cell_type": "code",
   "execution_count": 2,
   "metadata": {
    "collapsed": false
   },
   "outputs": [],
   "source": [
    "import graphlab as gl\n",
    "gl.canvas.set_target('ipynb')"
   ]
  },
  {
   "cell_type": "code",
   "execution_count": 4,
   "metadata": {
    "collapsed": false
   },
   "outputs": [],
   "source": [
    "%%capture \n",
    "# Import data\n",
    "edge_data = gl.SFrame.read_csv('https://raw.githubusercontent.com/bchugit/IS620_WebAnalytics/master/tribes.csv')"
   ]
  },
  {
   "cell_type": "code",
   "execution_count": 5,
   "metadata": {
    "collapsed": true
   },
   "outputs": [],
   "source": [
    "# Initiate graph object\n",
    "g = gl.SGraph()\n",
    "g = g.add_edges(edge_data, src_field='tribe_orig', dst_field='tribe_dest')"
   ]
  },
  {
   "cell_type": "code",
   "execution_count": 6,
   "metadata": {
    "collapsed": false
   },
   "outputs": [
    {
     "data": {
      "application/javascript": [
       "$(\"head\").append($(\"<link/>\").attr({\n",
       "  rel:  \"stylesheet\",\n",
       "  type: \"text/css\",\n",
       "  href: \"//cdnjs.cloudflare.com/ajax/libs/font-awesome/4.1.0/css/font-awesome.min.css\"\n",
       "}));\n",
       "$(\"head\").append($(\"<link/>\").attr({\n",
       "  rel:  \"stylesheet\",\n",
       "  type: \"text/css\",\n",
       "  href: \"//dato.com/files/canvas/1.5.2/css/canvas.css\"\n",
       "}));\n",
       "\n",
       "            (function(){\n",
       "\n",
       "                var e = null;\n",
       "                if (typeof element == 'undefined') {\n",
       "                    var scripts = document.getElementsByTagName('script');\n",
       "                    var thisScriptTag = scripts[scripts.length-1];\n",
       "                    var parentDiv = thisScriptTag.parentNode;\n",
       "                    e = document.createElement('div');\n",
       "                    parentDiv.appendChild(e);\n",
       "                } else {\n",
       "                    e = element[0];\n",
       "                }\n",
       "\n",
       "                require(['//dato.com/files/canvas/1.5.2/js/ipython_app.js'], function(IPythonApp){\n",
       "                    var app = new IPythonApp();\n",
       "                    app.attachView('sgraph','View', {\"edges_labels\": null, \"selected_variable\": {\"name\": [\"g\"], \"view_file\": \"sgraph\", \"view_component\": \"View\", \"view_params\": {\"elabel_hover\": false, \"vertex_positions\": null, \"h_offset\": 0.0, \"node_size\": 300, \"ecolor\": [0.37, 0.33, 0.33], \"elabel\": null, \"arrows\": true, \"ewidth\": 1, \"vlabel\": \"id\", \"highlight_color\": [0.69, 0.0, 0.498], \"vcolor\": [0.522, 0.741, 0.0], \"vlabel_hover\": false, \"highlight\": {}, \"v_offset\": 0.03}, \"view_components\": [\"View\"], \"type\": \"SGraph\", \"descriptives_links\": {\"edges\": \"edges\", \"vertices\": \"vertices\"}, \"descriptives\": {\"edges\": 58, \"vertices\": 16}}, \"positions\": null, \"error_type\": 0, \"vertices\": [5, 7, 8, 10, 16, 15, 2, 13, 6, 9, 3, 12, 14, 1, 4, 11], \"vertices_labels\": [5, 7, 8, 10, 16, 15, 2, 13, 6, 9, 3, 12, 14, 1, 4, 11], \"edges\": [[5, 7], [7, 8], [5, 16], [5, 15], [10, 15], [7, 13], [10, 13], [5, 9], [7, 12], [8, 12], [5, 14], [8, 14], [7, 11], [8, 11], [10, 11], [15, 16], [2, 5], [2, 10], [2, 16], [13, 16], [2, 15], [13, 15], [2, 6], [2, 9], [2, 3], [13, 14], [6, 7], [6, 8], [9, 10], [6, 16], [9, 15], [6, 13], [9, 13], [6, 9], [6, 12], [6, 11], [9, 11], [3, 7], [3, 8], [12, 16], [14, 16], [12, 15], [3, 6], [12, 14], [3, 4], [1, 5], [1, 16], [1, 15], [1, 2], [1, 6], [1, 3], [1, 12], [1, 4], [4, 8], [11, 16], [11, 15], [11, 13], [11, 12]], \"ipython\": true, \"error_msg\": \"\"}, e);\n",
       "                });\n",
       "            })();\n",
       "        "
      ]
     },
     "metadata": {},
     "output_type": "display_data"
    }
   ],
   "source": [
    "# Draw graph\n",
    "g.show(vlabel='id', arrows=True)"
   ]
  },
  {
   "cell_type": "markdown",
   "metadata": {},
   "source": [
    "If graph not visible, click <a href='http://nbviewer.ipython.org/github/bchugit/IS620_WebAnalytics/blob/master/tribes_sgraph.ipynb'>here</a>"
   ]
  }
 ],
 "metadata": {
  "kernelspec": {
   "display_name": "Python 2",
   "language": "python",
   "name": "python2"
  },
  "language_info": {
   "codemirror_mode": {
    "name": "ipython",
    "version": 2
   },
   "file_extension": ".py",
   "mimetype": "text/x-python",
   "name": "python",
   "nbconvert_exporter": "python",
   "pygments_lexer": "ipython2",
   "version": "2.7.9"
  }
 },
 "nbformat": 4,
 "nbformat_minor": 0
}
